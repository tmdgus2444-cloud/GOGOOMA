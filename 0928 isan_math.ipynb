{
  "nbformat": 4,
  "nbformat_minor": 0,
  "metadata": {
    "colab": {
      "provenance": [],
      "authorship_tag": "ABX9TyOi3n1a+Bl74jqLwdBnX8c/",
      "include_colab_link": true
    },
    "kernelspec": {
      "name": "python3",
      "display_name": "Python 3"
    },
    "language_info": {
      "name": "python"
    }
  },
  "cells": [
    {
      "cell_type": "markdown",
      "metadata": {
        "id": "view-in-github",
        "colab_type": "text"
      },
      "source": [
        "<a href=\"https://colab.research.google.com/github/tmdgus2444-cloud/GOGOOMA/blob/main/0928%20isan_math.ipynb\" target=\"_parent\"><img src=\"https://colab.research.google.com/assets/colab-badge.svg\" alt=\"Open In Colab\"/></a>"
      ]
    },
    {
      "cell_type": "code",
      "execution_count": 5,
      "metadata": {
        "colab": {
          "base_uri": "https://localhost:8080/",
          "height": 0
        },
        "id": "bNwU_ZJy_9QM",
        "outputId": "74ce187c-0e52-45dc-e8f2-a4c58525af25"
      },
      "outputs": [
        {
          "output_type": "stream",
          "name": "stdout",
          "text": [
            "관계 R: {(2, 3), (3, 2), (1, 2), (3, 4)}\n",
            "관계 행렬 (rows: A, columns: B):\n",
            "[[0 1 0]\n",
            " [0 0 1]\n",
            " [0 1 0]]\n",
            "\n",
            "합성 관계 R.S: {(2, 'y'), (3, 'x'), (1, 'x')}\n"
          ]
        }
      ],
      "source": [
        "import numpy as np\n",
        "import networkx as nx\n",
        "import matplotlib.pyplot as plt\n",
        "\n",
        "A = {1, 2, 3}\n",
        "B = {1, 2, 3}\n",
        "\n",
        "R = {(1,2), (2,3), (3,2), (3,4)}\n",
        "\n",
        "print(\"관계 R:\", R)\n",
        "\n",
        "\n",
        "A_list = sorted(A)\n",
        "B_list = sorted(B)\n",
        "\n",
        "relation_matrix = np.zeros((len(A_list), len(B_list)), dtype=int)\n",
        "\n",
        "for i,a in enumerate(A_list):\n",
        "    for j, b in enumerate(B_list):\n",
        "        if (a,b) in R:\n",
        "            relation_matrix[i, j] = 1\n",
        "\n",
        "print(\"관계 행렬 (rows: A, columns: B):\")\n",
        "print(relation_matrix)\n",
        "\n",
        "C = {'x', 'y'}\n",
        "S = {(2, 'x'), (3, 'y'), (4, 'x')}\n",
        "\n",
        "composed_relation = set()\n",
        "\n",
        "for (a, b1) in R:\n",
        "    for (b2, c) in S:\n",
        "        if b1 == b2:\n",
        "            composed_relation.add((a, c))\n",
        "\n",
        "print(\"\\n합성 관계 R.S:\", composed_relation)"
      ]
    },
    {
      "cell_type": "code",
      "source": [],
      "metadata": {
        "id": "c6-qHxgXCQYV"
      },
      "execution_count": null,
      "outputs": []
    }
  ]
}