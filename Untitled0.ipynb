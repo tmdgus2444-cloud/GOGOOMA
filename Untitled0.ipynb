{
  "nbformat": 4,
  "nbformat_minor": 0,
  "metadata": {
    "colab": {
      "provenance": [],
      "authorship_tag": "ABX9TyP48ofdO/ohWKuiVYg7VhS4",
      "include_colab_link": true
    },
    "kernelspec": {
      "name": "python3",
      "display_name": "Python 3"
    },
    "language_info": {
      "name": "python"
    }
  },
  "cells": [
    {
      "cell_type": "markdown",
      "metadata": {
        "id": "view-in-github",
        "colab_type": "text"
      },
      "source": [
        "<a href=\"https://colab.research.google.com/github/tmdgus2444-cloud/GOGOOMA/blob/main/Untitled0.ipynb\" target=\"_parent\"><img src=\"https://colab.research.google.com/assets/colab-badge.svg\" alt=\"Open In Colab\"/></a>"
      ]
    },
    {
      "cell_type": "code",
      "execution_count": 8,
      "metadata": {
        "colab": {
          "base_uri": "https://localhost:8080/"
        },
        "id": "Bq2tAzv-zetD",
        "outputId": "bcfae431-fecc-4e45-96b3-676e5b6662ec"
      },
      "outputs": [
        {
          "output_type": "stream",
          "name": "stdout",
          "text": [
            "입력 색상: (120, 100, 200)\n",
            "가장 가까운 피버카스텔 색상: purple, RGB : (128, 0, 128)\n"
          ]
        }
      ],
      "source": [
        "# s1 = set([1,2,3])\n",
        "# print(s1)\n",
        "# s2 = set([2,3,4])\n",
        "# print(s2)\n",
        "\n",
        "# print(s1&s2)\n",
        "# print(s1 | s2)\n",
        "# print(s1 - s2)\n",
        "\n",
        "\n",
        "#두 은행의 고객 집합 합병\n",
        "\n",
        "# bankA_customers = set(['김철수', '이영희', '박민수', '최지우'])\n",
        "# bankB_customers = set(['이영희', '최지우', '정우성', '한지민'])\n",
        "\n",
        "# print('은행 A고객:', bankA_customers)\n",
        "# print('은행 B고객:', bankB_customers)\n",
        "\n",
        "# total_customers = bankA_customers | bankB_customers\n",
        "# print('합병 후 전체 고객:', total_customers)\n",
        "\n",
        "# common_customers = bankA_customers & bankB_customers\n",
        "# print('공통 고객:', common_customers)\n",
        "\n",
        "# only_A_customers = bankA_customers - bankB_customers\n",
        "# print('A 은행에만 있는 고객:', only_A_customers)\n",
        "\n",
        "# only_B_customers = bankB_customers - bankA_customers\n",
        "# print('B 은행에만 있는 고객:', only_B_customers)\n",
        "\n",
        "\n",
        "##임의의 입력 색상을 받아, 12가지 파버카스텔 색연필 색상 집합에서 가장 가까운 색상으로 매핑\n",
        "\n",
        "import numpy as np\n",
        "\n",
        "faber_castell_colors = {\n",
        "    \"White\" : (255, 255 , 255),\n",
        "    \"Black\" : (0, 0 , 0),\n",
        "    \"Brown\" : (150, 75 , 0),\n",
        "    \"Orange\" : (255, 127 , 0),\n",
        "    \"Red\" : (255, 0 , 0),\n",
        "    \"Yellow\" : (255, 255 , 0),\n",
        "    \"Light Green\" : (0, 255 , 0),\n",
        "    \"Green\" : (0, 128 , 0),\n",
        "    \"Light Blue\" : (0, 255 , 255),\n",
        "    \"Blue\" : (0, 0 , 255),\n",
        "    \"purple\" : (128, 0 , 128),\n",
        "    \"Pink\" : (255, 192 , 203),\n",
        "}\n",
        "\n",
        "\n",
        "input_color = (120, 100, 200)\n",
        "\n",
        "def find_nearst_color(inpjut_rgb, color_set):\n",
        "    min_dist = float('inf')\n",
        "    nearst_name =   None\n",
        "    for name, rgb in color_set.items():\n",
        "        dist = np.sqrt(sum((a-b) ** 2 for a, b in zip(inpjut_rgb, rgb)))\n",
        "        if dist < min_dist:\n",
        "            min_dist = dist\n",
        "            nearst_name = name\n",
        "    return nearst_name, color_set[nearst_name]\n",
        "\n",
        "nearst_name, nearst_rgb = find_nearst_color(input_color, faber_castell_colors)\n",
        "\n",
        "print(f'입력 색상: {input_color}')\n",
        "print(f'가장 가까운 피버카스텔 색상: {nearst_name}, RGB : {nearst_rgb}')\n",
        "\n",
        "\n"
      ]
    },
    {
      "cell_type": "code",
      "source": [],
      "metadata": {
        "id": "69GbRFUU0nq2"
      },
      "execution_count": null,
      "outputs": []
    }
  ]
}